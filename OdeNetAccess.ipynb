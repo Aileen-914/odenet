{
 "cells": [
  {
   "cell_type": "markdown",
   "metadata": {},
   "source": [
    "Zunächst müssen einige Module importiert werden, die wir nutzen wollen"
   ]
  },
  {
   "cell_type": "code",
   "execution_count": 2,
   "metadata": {},
   "outputs": [],
   "source": [
    "from xml.etree import ElementTree as ET\n",
    "import random\n",
    "from random import *\n",
    "import deepl"
   ]
  },
  {
   "cell_type": "markdown",
   "metadata": {},
   "source": [
    "Jetzt machen wir die OdeNet-XML-Datei auf, parsen das XML und öffnen eine Datei, in die die Ausgabe geschrieben wird."
   ]
  },
  {
   "cell_type": "code",
   "execution_count": 3,
   "metadata": {},
   "outputs": [],
   "source": [
    "de_wn = open(r\"C:\\Users\\melaniesiegel\\Documents\\05_Projekte\\WordNet\\OdeNet\\odenet.git\\trunk\\deWordNet.xml\",\"r\",encoding=\"utf-8\")\n",
    "\n",
    "out_lex = open(\"out_lex.txt\",\"w\",encoding=\"utf-8\")\n",
    "\n",
    "tree = ET.parse(de_wn)\n",
    "\n",
    "root = tree.getroot()\n",
    "\n",
    "lexicon = root.find('Lexicon')\n"
   ]
  },
  {
   "cell_type": "markdown",
   "metadata": {},
   "source": [
    "Mit check_word_lemma greift man auf Lexikon-Einträge zu, bekommt die Lexikon-ID für ein Wort, den Lemma-Wert, POS und die IDs der Synsets, in denen das Wort enthalten ist."
   ]
  },
  {
   "cell_type": "code",
   "execution_count": 4,
   "metadata": {},
   "outputs": [],
   "source": [
    "def check_word_lemma(word_to_check):    \n",
    "    for lexentry in lexicon.iter('LexicalEntry'):\n",
    "        lemma = lexentry.find('Lemma')\n",
    "        lemma_value = lemma.attrib['writtenForm']\n",
    "        lemma_id = lexentry.attrib['id']\n",
    "        if lemma_value == word_to_check:\n",
    "            pos = lemma.attrib['partOfSpeech']\n",
    "            senses = []\n",
    "            for sense in lexentry.iter('Sense'):\n",
    "                sense_id = sense.attrib['id']\n",
    "                synset_id = sense.attrib['synset']\n",
    "#                senserelation_type = lexentry.find('SenseRelation').attrib['relType']\n",
    "#                senserelation_target = lexentry.find('SenseRelation').attrib['target']\n",
    "                senses.append([sense_id,synset_id])\n",
    "#            print(\"LEMMA: \" + lemma_value + \"\\nPOS: \" + pos + \"\\nSENSE ID: \" + sense_id)\n",
    "            return(lemma_id, lemma_value, pos, senses)"
   ]
  },
  {
   "cell_type": "code",
   "execution_count": 16,
   "metadata": {},
   "outputs": [
    {
     "data": {
      "text/plain": [
       "('w47809',\n",
       " 'Löwe',\n",
       " 'n',\n",
       " [['w47809_12199-n', 'odenet-12199-n'], ['w47809_17961-n', 'odenet-17961-n']])"
      ]
     },
     "execution_count": 16,
     "metadata": {},
     "output_type": "execute_result"
    }
   ],
   "source": [
    "check_word_lemma(\"Löwe\")"
   ]
  },
  {
   "cell_type": "markdown",
   "metadata": {},
   "source": [
    "Hier bekommt man die Lexikon-IDs für eine Liste von Wörtern."
   ]
  },
  {
   "cell_type": "code",
   "execution_count": 5,
   "metadata": {},
   "outputs": [],
   "source": [
    "def words2ids(wordlist):\n",
    "    word_id_list = []\n",
    "    for word in wordlist:\n",
    "        try:\n",
    "            lemma_id, lemma, pos, senses = check_word_lemma(word)\n",
    "            word_id_list.append(lemma_id)\n",
    "        except:\n",
    "            print(word + \" NOT IN ODENET\")\n",
    "    return(word_id_list)"
   ]
  },
  {
   "cell_type": "code",
   "execution_count": 6,
   "metadata": {},
   "outputs": [
    {
     "data": {
      "text/plain": [
       "['w14145', 'w44811', 'w1202374', 'w25612']"
      ]
     },
     "execution_count": 6,
     "metadata": {},
     "output_type": "execute_result"
    }
   ],
   "source": [
    "words2ids(['Frühling','Sommer','Herbst','Winter'])"
   ]
  },
  {
   "cell_type": "markdown",
   "metadata": {},
   "source": [
    "Mit check_word_id bekommt man für eine Lexikon-ID Lemma, POS, Synsets und Relationen"
   ]
  },
  {
   "cell_type": "code",
   "execution_count": 6,
   "metadata": {},
   "outputs": [],
   "source": [
    "def check_word_id(id):    \n",
    "    for lexentry in lexicon.iter('LexicalEntry'):\n",
    "        if lexentry.attrib['id'] == id:\n",
    "            lemma = lexentry.find('Lemma')\n",
    "            lemma_value = lemma.attrib['writtenForm']\n",
    "            pos = lemma.attrib['partOfSpeech']\n",
    "            senses = []\n",
    "            for sense in lexentry.iter('Sense'):\n",
    "                sense_id = sense.attrib['id']\n",
    "                synset_id = sense.attrib['synset']\n",
    "#                senserelation_type = lexentry.find('SenseRelation').attrib['relType']\n",
    "#                senserelation_target = lexentry.find('SenseRelation').attrib['target']\n",
    "                senses.append(synset_id)\n",
    "                relations = []\n",
    "                if sense.find('SenseRelation') != None:\n",
    "                    for relation in sense.iter('SenseRelation'):\n",
    "                        reltype = relation.attrib['relType']\n",
    "                        reltarget = relation.attrib['target']\n",
    "                        relations.append((reltype,reltarget))\n",
    "    return(lemma_value, pos, senses,relations)"
   ]
  },
  {
   "cell_type": "code",
   "execution_count": 7,
   "metadata": {},
   "outputs": [
    {
     "data": {
      "text/plain": [
       "('Frühling', 'n', ['odenet-3067-n'], [])"
      ]
     },
     "execution_count": 7,
     "metadata": {},
     "output_type": "execute_result"
    }
   ],
   "source": [
    "check_word_id('w14145')"
   ]
  },
  {
   "cell_type": "markdown",
   "metadata": {},
   "source": [
    "Mit words_in_synset bekommt man die Wörter, die in einem Synset sind."
   ]
  },
  {
   "cell_type": "code",
   "execution_count": 8,
   "metadata": {},
   "outputs": [],
   "source": [
    "def words_in_synset(id):\n",
    "    words = []\n",
    "    for lexentry in lexicon.iter('LexicalEntry'):\n",
    "        for sense in lexentry.iter('Sense'):\n",
    "            if sense.attrib['synset'] == id:\n",
    "                lemma = lexentry.find('Lemma').attrib['writtenForm']\n",
    "                words.append(lemma)\n",
    "    return(words)"
   ]
  },
  {
   "cell_type": "code",
   "execution_count": 9,
   "metadata": {},
   "outputs": [
    {
     "data": {
      "text/plain": [
       "['Vogel', 'Flugzeug', 'Flieger', 'Kiste', 'Maschine', 'Aeroplan']"
      ]
     },
     "execution_count": 9,
     "metadata": {},
     "output_type": "execute_result"
    }
   ],
   "source": [
    "words_in_synset('odenet-3131-n')"
   ]
  },
  {
   "cell_type": "markdown",
   "metadata": {},
   "source": [
    "Mit check_synset bekommt man alle Informationen zu einem Synset."
   ]
  },
  {
   "cell_type": "code",
   "execution_count": 10,
   "metadata": {},
   "outputs": [],
   "source": [
    "def check_synset(id):\n",
    "    words = words_in_synset(id)\n",
    "    for synset in lexicon.iter('Synset'):\n",
    "        if id == synset.attrib['id']:\n",
    "            ili = synset.attrib['ili']\n",
    "            try:\n",
    "                en_definition = synset.attrib[\"{http://purl.org/dc/elements/1.1/}description\"]\n",
    "            except KeyError:\n",
    "                en_definition = []\n",
    "            if synset.find('Definition') != None:\n",
    "                de_definition = synset.find('Definition').text.strip()\n",
    "            else:\n",
    "                de_definition = []\n",
    "            relations = []\n",
    "            for relation in synset.iter('SynsetRelation'):\n",
    "                reltype = relation.attrib['relType']\n",
    "                reltarget = relation.attrib['target']\n",
    "                relations.append((reltype,reltarget))\n",
    "            return(ili,en_definition,de_definition, relations, words)"
   ]
  },
  {
   "cell_type": "code",
   "execution_count": 15,
   "metadata": {},
   "outputs": [
    {
     "data": {
      "text/plain": [
       "('i74756',\n",
       " 'a message issued in behalf of some product or cause or idea or person or institution',\n",
       " [],\n",
       " [('holo_part', 'odenet-16790-n'), ('hyponym', 'odenet-10771-n')],\n",
       " ['Unterstützung',\n",
       "  'Zuschuss',\n",
       "  'Beihilfe',\n",
       "  'Förderung',\n",
       "  'Fördermittel',\n",
       "  'Finanzspritze',\n",
       "  'Subvention',\n",
       "  'Gönnerschaft',\n",
       "  'Unterstützungszahlung'])"
      ]
     },
     "execution_count": 15,
     "metadata": {},
     "output_type": "execute_result"
    }
   ],
   "source": [
    "check_synset(\"odenet-10770-n\")"
   ]
  },
  {
   "cell_type": "code",
   "execution_count": null,
   "metadata": {},
   "outputs": [],
   "source": []
  }
 ],
 "metadata": {
  "kernelspec": {
   "display_name": "Python 3",
   "language": "python",
   "name": "python3"
  },
  "language_info": {
   "codemirror_mode": {
    "name": "ipython",
    "version": 3
   },
   "file_extension": ".py",
   "mimetype": "text/x-python",
   "name": "python",
   "nbconvert_exporter": "python",
   "pygments_lexer": "ipython3",
   "version": "3.6.6"
  }
 },
 "nbformat": 4,
 "nbformat_minor": 2
}
