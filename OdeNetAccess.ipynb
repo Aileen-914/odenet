{
 "cells": [
  {
   "cell_type": "markdown",
   "metadata": {},
   "source": [
    "Zunächst müssen wir das OdeNet-Modul importieren"
   ]
  },
  {
   "cell_type": "code",
   "execution_count": 1,
   "metadata": {},
   "outputs": [],
   "source": [
    "from odenet import *\n"
   ]
  },
  {
   "cell_type": "markdown",
   "metadata": {},
   "source": [
    "Mit OdeNet.word_info() greift man auf Lexikon-Einträge zu, bekommt die Lexikon-ID für ein Wort, den Lemma-Wert, POS und die IDs der Synsets, in denen das Wort enthalten ist."
   ]
  },
  {
   "cell_type": "code",
   "execution_count": 2,
   "metadata": {},
   "outputs": [
    {
     "name": "stdout",
     "output_type": "stream",
     "text": [
      "Auseinandersetzung n \n",
      "SENSE: odenet-1163-n  ('i110406', [], 'Zustand der Opposition zwischen Personen, Ideen oder Interessen.', [('hyponym', 'odenet-26329-n'), ('hyponym', 'odenet-35625-n'), ('hyponym', 'odenet-8610-n'), ('hyponym', 'odenet-13574-n'), ('hyponym', 'odenet-25988-n')], ['Gerangel', 'Krach', 'Clinch', 'Streit', 'Zankerei', 'Zerwürfnis', 'Zoff', 'Differenzen', 'Zank', 'Stunk', 'Querelen', 'Streiterei', 'Knatsch', 'Rangelei', 'Streitigkeit', 'Hader', 'Hickhack', 'Zwist', 'Zwistigkeit', 'Geplänkel', 'Hakelei', 'Wickel', 'Klinsch', 'Auseinandersetzung', 'Scharmützel'])\n",
      "\n",
      "SENSE: odenet-5915-n  ('i40429', [], 'Kleiner kurzfristiger Streit.', [('hypernym', 'odenet-3632-n')], ['Schererei', 'Differenzen', 'Querelen', 'Auseinandersetzung', 'Streitigkeiten', 'Zerwürfnisse', 'Reibereien', 'Dispute', 'Brüche'])\n",
      "\n",
      "SENSE: odenet-9925-n  ('i74403', [], 'Dialog mit großer Nicht-Übereinstimmung.', [('hyponym', 'odenet-471-n'), ('hyponym', 'odenet-6948-n'), ('hyponym', 'odenet-11443-n'), ('hypernym', 'odenet-2801-n')], ['Streit', 'Auseinandersetzung', 'Kontroverse', 'Fehde', 'Konflikt'])\n",
      "\n",
      "SENSE: odenet-2982-n  ('i74188', [], 'Dialog mit kontroversen Ansichten.', [('hyponym', 'odenet-26556-n'), ('hyponym', 'odenet-29356-n'), ('hyponym', 'odenet-2743-n'), ('hyponym', 'odenet-7533-n'), ('hypernym', 'odenet-2801-n')], ['Auseinandersetzung', 'Diskussion', 'Debatte', 'Wortstreit', 'Disputation', 'Disput', 'Streitgespräch'])\n",
      "\n",
      "SENSE: odenet-27472-n  ('i74403', [], 'Emotionaler Dialog mit kontroversen Ansichten.', [('hypernym', 'odenet-10107-n'), ('hypernym', 'odenet-1785-n'), ('hypernym', 'odenet-2801-n')], ['Auseinandersetzung', 'Disput', 'Streitgespräch', 'Szene', 'Meinungsverschiedenheit', 'Schlagabtausch', 'Rededuell', 'Wortgefecht', '(heftiger) Wortwechsel', '(scharfer) Wortwechsel', '(heftiger) Streit', 'hitzige Debatte'])\n",
      "\n",
      "HYPERNYMS: [('w5773_5915-n', 'odenet-3632-n', ['Partie', 'Kampf', 'Treffen', 'Runde', 'Spiel', 'Match', 'Fight', 'Begegnung']), ('w5773_9925-n', 'odenet-2801-n', ['Gespräch', 'Austausch', 'Unterhaltung', 'Gedankenaustausch', 'Zwiegespräch', 'Unterredung', 'Diskussion', 'Zwiesprache', 'Konversation', 'Wortwechsel', 'Aussprache', 'Dialog']), ('w5773_2982-n', 'odenet-2801-n', ['Gespräch', 'Austausch', 'Unterhaltung', 'Gedankenaustausch', 'Zwiegespräch', 'Unterredung', 'Diskussion', 'Zwiesprache', 'Konversation', 'Wortwechsel', 'Aussprache', 'Dialog']), ('w5773_27472-n', 'odenet-10107-n', ['Waffengang', 'Duell', 'Zweikampf']), ('w5773_27472-n', 'odenet-1785-n', ['Schlacht', 'Kampfhandlungen', 'Kampfgeschehen', 'Kampf', 'Waffengang', 'Treffen', 'Gefecht', 'Bataille']), ('w5773_27472-n', 'odenet-2801-n', ['Gespräch', 'Austausch', 'Unterhaltung', 'Gedankenaustausch', 'Zwiegespräch', 'Unterredung', 'Diskussion', 'Zwiesprache', 'Konversation', 'Wortwechsel', 'Aussprache', 'Dialog'])]\n",
      "HYPONYMS: [('w5773_1163-n', 'odenet-26329-n', ['Beziehungsknatsch', 'Beziehungskrise', 'Ehekrise']), ('w5773_1163-n', 'odenet-35625-n', ['Organstreit', 'Organstreitigkeit']), ('w5773_1163-n', 'odenet-8610-n', ['Kompetenzkonflikt', 'Kompetenzstreitigkeit']), ('w5773_1163-n', 'odenet-13574-n', ['Handgreiflichkeit', 'körperliche Auseinandersetzung', 'Tätlichkeit', 'tätliche Auseinandersetzung']), ('w5773_1163-n', 'odenet-25988-n', ['Bluttat', 'bei dem Blut fließt', 'blutige Auseinandersetzung', 'bei der Blut fließt']), ('w5773_9925-n', 'odenet-471-n', ['Arbeitseinstellung', 'Arbeitsausstand', 'Ausstand', 'Arbeitsniederlegung', 'Streik', 'Arbeitskampf']), ('w5773_9925-n', 'odenet-6948-n', ['Gerangel', 'Streiterei', 'Rangelei', 'Handgreiflichkeiten', 'Händel', 'handfeste Auseinandersetzung', 'Handgemenge', 'Balgerei']), ('w5773_9925-n', 'odenet-11443-n', ['Kampfhandlungen', 'Waffengang', 'militärische Option', 'Feldzug', 'Krieg', 'kriegsähnliche Zustände', 'militärisch ausgetragener Konflikt', 'militärische Auseinandersetzung', 'bewaffnete Auseinandersetzung', 'Orlog', 'bewaffneter Konflikt', 'die Fortsetzung der Politik mit anderen Mitteln', 'kriegerische Auseinandersetzung']), ('w5773_2982-n', 'odenet-26556-n', ['Waldheim-Debatte', 'Waldheim-Affäre', 'Fall Waldheim', 'Affäre Waldheim', 'Causa Waldheim']), ('w5773_2982-n', 'odenet-29356-n', ['Sokal-Kontroverse', 'Sokal-Affäre', 'Sokal-Debatte']), ('w5773_2982-n', 'odenet-2743-n', ['Prüfung', 'Untersuchung', 'Ermittlung', 'kritische Auseinandersetzung', 'Analyse']), ('w5773_2982-n', 'odenet-7533-n', ['Verfahren', 'Prozess', 'Gerichtsprozess', 'Gerichtsverfahren', 'gerichtliche Auseinandersetzung'])]\n",
      "MERONYMS: []\n",
      "HOLONYMS: []\n",
      "ANTONYMS: []\n",
      "LEMMA: Auseinandersetzung\n",
      "POS: n\n",
      "SENSE ID: w5773_27472-n\n"
     ]
    }
   ],
   "source": [
    "OdeNet.word_info(\"Auseinandersetzung\")"
   ]
  },
  {
   "cell_type": "markdown",
   "metadata": {},
   "source": [
    "Hier bekommt man die Lexikon-IDs für eine Liste von Wörtern."
   ]
  },
  {
   "cell_type": "code",
   "execution_count": 6,
   "metadata": {},
   "outputs": [
    {
     "name": "stdout",
     "output_type": "stream",
     "text": [
      "Frühling: w14145\n",
      "Sommer: w44811\n",
      "Herbst: w1202374\n",
      "Winter: w25612\n"
     ]
    }
   ],
   "source": [
    "wordlist = ['Frühling','Sommer','Herbst','Winter']\n",
    "for w in wordlist:\n",
    "    print(w + ': ' + OdeNet.word_id(w))"
   ]
  },
  {
   "cell_type": "markdown",
   "metadata": {},
   "source": [
    "Mit check_word_id bekommt man für eine Lexikon-ID Lemma, POS, Synsets und Relationen"
   ]
  },
  {
   "cell_type": "code",
   "execution_count": 7,
   "metadata": {},
   "outputs": [
    {
     "name": "stdout",
     "output_type": "stream",
     "text": [
      "LEMMA: Frühling\n",
      "POS: n\n",
      "SENSE ID: w14145_3067-n\n"
     ]
    }
   ],
   "source": [
    "check_word_id('w14145')"
   ]
  },
  {
   "cell_type": "markdown",
   "metadata": {},
   "source": [
    "Mit words_in_synset bekommt man die Wörter, die in einem Synset sind."
   ]
  },
  {
   "cell_type": "code",
   "execution_count": 12,
   "metadata": {},
   "outputs": [
    {
     "data": {
      "text/plain": [
       "['Monitoring', 'Beaufsichtigung', 'Überwachung', 'Aufsicht']"
      ]
     },
     "execution_count": 12,
     "metadata": {},
     "output_type": "execute_result"
    }
   ],
   "source": [
    "words_in_synset('odenet-2754-n')"
   ]
  },
  {
   "cell_type": "markdown",
   "metadata": {},
   "source": [
    "Mit check_synset bekommt man alle Informationen zu einem Synset."
   ]
  },
  {
   "cell_type": "code",
   "execution_count": 13,
   "metadata": {},
   "outputs": [
    {
     "data": {
      "text/plain": [
       "('i74188',\n",
       " [],\n",
       " 'Dialog mit kontroversen Ansichten.',\n",
       " [('hyponym', 'odenet-26556-n'),\n",
       "  ('hyponym', 'odenet-29356-n'),\n",
       "  ('hyponym', 'odenet-2743-n'),\n",
       "  ('hyponym', 'odenet-7533-n'),\n",
       "  ('hypernym', 'odenet-2801-n')],\n",
       " ['Auseinandersetzung',\n",
       "  'Diskussion',\n",
       "  'Debatte',\n",
       "  'Wortstreit',\n",
       "  'Disputation',\n",
       "  'Disput',\n",
       "  'Streitgespräch'])"
      ]
     },
     "execution_count": 13,
     "metadata": {},
     "output_type": "execute_result"
    }
   ],
   "source": [
    "check_synset(\"odenet-2982-n\")"
   ]
  },
  {
   "cell_type": "code",
   "execution_count": 14,
   "metadata": {},
   "outputs": [
    {
     "data": {
      "text/plain": [
       "[('w9034_13770-v',\n",
       "  'odenet-10390-n',\n",
       "  ['Liegenschaft', 'Grundbesitz', 'Landbesitz']),\n",
       " ('w9034_15292-v', 'odenet-21765-n', ['Schulden', 'Fremdkapital'])]"
      ]
     },
     "execution_count": 14,
     "metadata": {},
     "output_type": "execute_result"
    }
   ],
   "source": [
    "hypernyms_word(\"überlassen\")"
   ]
  },
  {
   "cell_type": "code",
   "execution_count": 15,
   "metadata": {},
   "outputs": [
    {
     "data": {
      "text/plain": [
       "[('w12715_2720-n',\n",
       "  'odenet-14514-n',\n",
       "  ['Saudi-Arabien', 'Königreich Saudi-Arabien', 'Saudisch-Arabien']),\n",
       " ('w12715_2720-n', 'odenet-14519-n', ['Syrien', 'Arabische Republik Syrien']),\n",
       " ('w12715_2720-n', 'odenet-14516-n', ['Türkei', 'Republik Türkei']),\n",
       " ('w12715_9897-n', 'odenet-9309-n', ['Ferner Osten', 'Fernost'])]"
      ]
     },
     "execution_count": 15,
     "metadata": {},
     "output_type": "execute_result"
    }
   ],
   "source": [
    "meronyms_word(\"Morgenland\")"
   ]
  },
  {
   "cell_type": "code",
   "execution_count": 16,
   "metadata": {
    "scrolled": true
   },
   "outputs": [
    {
     "name": "stdout",
     "output_type": "stream",
     "text": [
      "Auseinandersetzung n \n",
      "SENSE: odenet-1163-n  ('i110406', [], 'Zustand der Opposition zwischen Personen, Ideen oder Interessen.', [('hyponym', 'odenet-26329-n'), ('hyponym', 'odenet-35625-n'), ('hyponym', 'odenet-8610-n'), ('hyponym', 'odenet-13574-n'), ('hyponym', 'odenet-25988-n')], ['Gerangel', 'Krach', 'Clinch', 'Streit', 'Zankerei', 'Zerwürfnis', 'Zoff', 'Differenzen', 'Zank', 'Stunk', 'Querelen', 'Streiterei', 'Knatsch', 'Rangelei', 'Streitigkeit', 'Hader', 'Hickhack', 'Zwist', 'Zwistigkeit', 'Geplänkel', 'Hakelei', 'Wickel', 'Klinsch', 'Auseinandersetzung', 'Scharmützel'])\n",
      "\n",
      "SENSE: odenet-5915-n  ('i40429', [], 'Kleiner kurzfristiger Streit.', [('hypernym', 'odenet-3632-n')], ['Schererei', 'Differenzen', 'Querelen', 'Auseinandersetzung', 'Streitigkeiten', 'Zerwürfnisse', 'Reibereien', 'Dispute', 'Brüche'])\n",
      "\n",
      "SENSE: odenet-9925-n  ('i74403', [], 'Dialog mit großer Nicht-Übereinstimmung.', [('hyponym', 'odenet-471-n'), ('hyponym', 'odenet-6948-n'), ('hyponym', 'odenet-11443-n'), ('hypernym', 'odenet-2801-n')], ['Streit', 'Auseinandersetzung', 'Kontroverse', 'Fehde', 'Konflikt'])\n",
      "\n",
      "SENSE: odenet-2982-n  ('i74188', [], 'Dialog mit kontroversen Ansichten.', [('hyponym', 'odenet-26556-n'), ('hyponym', 'odenet-29356-n'), ('hyponym', 'odenet-2743-n'), ('hyponym', 'odenet-7533-n'), ('hypernym', 'odenet-2801-n')], ['Auseinandersetzung', 'Diskussion', 'Debatte', 'Wortstreit', 'Disputation', 'Disput', 'Streitgespräch'])\n",
      "\n",
      "SENSE: odenet-27472-n  ('i74403', [], 'Emotionaler Dialog mit kontroversen Ansichten.', [('hypernym', 'odenet-10107-n'), ('hypernym', 'odenet-1785-n'), ('hypernym', 'odenet-2801-n')], ['Auseinandersetzung', 'Disput', 'Streitgespräch', 'Szene', 'Meinungsverschiedenheit', 'Schlagabtausch', 'Rededuell', 'Wortgefecht', '(heftiger) Wortwechsel', '(scharfer) Wortwechsel', '(heftiger) Streit', 'hitzige Debatte'])\n",
      "\n",
      "HYPERNYMS: [('w5773_5915-n', 'odenet-3632-n', ['Partie', 'Kampf', 'Treffen', 'Runde', 'Spiel', 'Match', 'Fight', 'Begegnung']), ('w5773_9925-n', 'odenet-2801-n', ['Gespräch', 'Austausch', 'Unterhaltung', 'Gedankenaustausch', 'Zwiegespräch', 'Unterredung', 'Diskussion', 'Zwiesprache', 'Konversation', 'Wortwechsel', 'Aussprache', 'Dialog']), ('w5773_2982-n', 'odenet-2801-n', ['Gespräch', 'Austausch', 'Unterhaltung', 'Gedankenaustausch', 'Zwiegespräch', 'Unterredung', 'Diskussion', 'Zwiesprache', 'Konversation', 'Wortwechsel', 'Aussprache', 'Dialog']), ('w5773_27472-n', 'odenet-10107-n', ['Waffengang', 'Duell', 'Zweikampf']), ('w5773_27472-n', 'odenet-1785-n', ['Schlacht', 'Kampfhandlungen', 'Kampfgeschehen', 'Kampf', 'Waffengang', 'Treffen', 'Gefecht', 'Bataille']), ('w5773_27472-n', 'odenet-2801-n', ['Gespräch', 'Austausch', 'Unterhaltung', 'Gedankenaustausch', 'Zwiegespräch', 'Unterredung', 'Diskussion', 'Zwiesprache', 'Konversation', 'Wortwechsel', 'Aussprache', 'Dialog'])]\n",
      "HYPONYMS: [('w5773_1163-n', 'odenet-26329-n', ['Beziehungsknatsch', 'Beziehungskrise', 'Ehekrise']), ('w5773_1163-n', 'odenet-35625-n', ['Organstreit', 'Organstreitigkeit']), ('w5773_1163-n', 'odenet-8610-n', ['Kompetenzkonflikt', 'Kompetenzstreitigkeit']), ('w5773_1163-n', 'odenet-13574-n', ['Handgreiflichkeit', 'körperliche Auseinandersetzung', 'Tätlichkeit', 'tätliche Auseinandersetzung']), ('w5773_1163-n', 'odenet-25988-n', ['Bluttat', 'bei dem Blut fließt', 'blutige Auseinandersetzung', 'bei der Blut fließt']), ('w5773_9925-n', 'odenet-471-n', ['Arbeitseinstellung', 'Arbeitsausstand', 'Ausstand', 'Arbeitsniederlegung', 'Streik', 'Arbeitskampf']), ('w5773_9925-n', 'odenet-6948-n', ['Gerangel', 'Streiterei', 'Rangelei', 'Handgreiflichkeiten', 'Händel', 'handfeste Auseinandersetzung', 'Handgemenge', 'Balgerei']), ('w5773_9925-n', 'odenet-11443-n', ['Kampfhandlungen', 'Waffengang', 'militärische Option', 'Feldzug', 'Krieg', 'kriegsähnliche Zustände', 'militärisch ausgetragener Konflikt', 'militärische Auseinandersetzung', 'bewaffnete Auseinandersetzung', 'Orlog', 'bewaffneter Konflikt', 'die Fortsetzung der Politik mit anderen Mitteln', 'kriegerische Auseinandersetzung']), ('w5773_2982-n', 'odenet-26556-n', ['Waldheim-Debatte', 'Waldheim-Affäre', 'Fall Waldheim', 'Affäre Waldheim', 'Causa Waldheim']), ('w5773_2982-n', 'odenet-29356-n', ['Sokal-Kontroverse', 'Sokal-Affäre', 'Sokal-Debatte']), ('w5773_2982-n', 'odenet-2743-n', ['Prüfung', 'Untersuchung', 'Ermittlung', 'kritische Auseinandersetzung', 'Analyse']), ('w5773_2982-n', 'odenet-7533-n', ['Verfahren', 'Prozess', 'Gerichtsprozess', 'Gerichtsverfahren', 'gerichtliche Auseinandersetzung'])]\n",
      "MERONYMS: []\n",
      "HOLONYMS: []\n",
      "ANTONYMS: []\n"
     ]
    }
   ],
   "source": [
    "myword = \"Auseinandersetzung\"\n",
    "(lemma_id, lemma_value, pos, senses) = check_word_lemma(myword)\n",
    "print (lemma_value + \" \" + pos + \" \")\n",
    "for sense in senses:\n",
    "    print(\"SENSE: \" + str(sense[1]) + \"  \" + str(check_synset(sense[1])) + \"\\n\")\n",
    "print(\"HYPERNYMS: \" + str(hypernyms_word(myword)))\n",
    "print(\"HYPONYMS: \" + str(hyponyms_word(myword)))\n",
    "print(\"MERONYMS: \" + str(meronyms_word(myword)))\n",
    "print(\"HOLONYMS: \" + str(holonyms_word(myword)))\n",
    "print(\"ANTONYMS: \" + str(antonyms_word(myword)))\n"
   ]
  },
  {
   "cell_type": "code",
   "execution_count": null,
   "metadata": {},
   "outputs": [],
   "source": []
  }
 ],
 "metadata": {
  "kernelspec": {
   "display_name": "Python 3",
   "language": "python",
   "name": "python3"
  },
  "language_info": {
   "codemirror_mode": {
    "name": "ipython",
    "version": 3
   },
   "file_extension": ".py",
   "mimetype": "text/x-python",
   "name": "python",
   "nbconvert_exporter": "python",
   "pygments_lexer": "ipython3",
   "version": "3.7.6"
  }
 },
 "nbformat": 4,
 "nbformat_minor": 4
}
