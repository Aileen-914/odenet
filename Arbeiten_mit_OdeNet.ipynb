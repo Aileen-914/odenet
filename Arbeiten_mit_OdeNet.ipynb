{
 "cells": [
  {
   "cell_type": "code",
   "execution_count": 1,
   "metadata": {},
   "outputs": [],
   "source": [
    "from odenet import *"
   ]
  },
  {
   "cell_type": "code",
   "execution_count": 2,
   "metadata": {
    "scrolled": true
   },
   "outputs": [
    {
     "name": "stdout",
     "output_type": "stream",
     "text": [
      "zeigen v \n",
      "SENSE: odenet-533-v  ('i33216', [], 'Vorschlagen, etwas für jemanden zu tun.', [('hypernym', 'odenet-8644-v')], ['andienen', 'anbieten', 'bieten', 'zeigen'])\n",
      "\n",
      "SENSE: odenet-3065-v  ('i32498', [], 'Jemanden etwas sehen lassen.', [('hypernym', 'odenet-9246-v')], ['zeigen', 'präsentieren', 'darstellen', 'vorzeigen', 'abbilden', 'vorführen', 'demonstrieren', 'vorstellen'])\n",
      "\n",
      "SENSE: odenet-4206-v  ('i32440', [], 'Etwas öffentlich sagen.', [('hyponym', 'odenet-2339-v'), ('hyponym', 'odenet-11159-v'), ('hyponym', 'odenet-1192-v'), ('hyponym', 'odenet-22914-v'), ('hyponym', 'odenet-2770-v')], ['kundtun', 'zeigen', 'offenbaren', 'bekunden'])\n",
      "\n",
      "SENSE: odenet-5328-v  ('i25048', [], 'Die Wahrheit von etwas deutlich machen.', [('hypernym', 'odenet-12792-v')], ['bestätigen', 'zeigen', 'aufzeigen', 'nachweisen', 'belegen', 'Nachweis erbringen', 'Beweis erbringen für', 'beweisen'])\n",
      "\n",
      "SENSE: odenet-9990-v  ('i25049', [], 'Sich als etwas erweisen, offenbaren.', [], ['zeigen', 'niederschlagen', 'manifestieren'])\n",
      "\n",
      "SENSE: odenet-10538-v  ('i30180', [], 'In einem Bild darstellen.', [], ['zeigen', 'repräsentieren', 'wiedergeben', 'bildlich darstellen', 'darstellen', 'abbilden', 'zur Darstellung bringen'])\n",
      "\n",
      "HYPERNYMS: [('w2722_533-v', 'odenet-8644-v', ['übergeben', 'abgeben', 'durchgeben', 'weiterleiten', 'überweisen', 'weitergeben']), ('w2722_3065-v', 'odenet-9246-v', ['ausdrücken', 'sagen', 'formulieren', 'äußern', 'phrasieren', 'verbalisieren']), ('w2722_5328-v', 'odenet-12792-v', ['bestärken', 'bekräftigen', 'beleben'])]\n",
      "HYPONYMS: [('w2722_4206-v', 'odenet-2339-v', ['freilegen', 'freigeben']), ('w2722_4206-v', 'odenet-11159-v', ['anzeigen', 'indizieren', 'als angezeigt erscheinen lassen']), ('w2722_4206-v', 'odenet-1192-v', ['widerspiegeln', 'zurückwerfen', 'repräsentieren', 'spiegeln', 'wiedergeben', 'reflektieren']), ('w2722_4206-v', 'odenet-22914-v', ['enthüllen', 'aufdecken', 'etwas ans Licht bringen', 'etwas zum Vorschein bringen', 'Geheimnis lüften', 'etwas ans Tageslicht bringen', 'Schleier lüften']), ('w2722_4206-v', 'odenet-2770-v', ['auflegen', 'ausgeben', 'ausstellen', 'herausgeben', 'in Umlauf setzen', 'verbreiten', 'in Verkehr bringen', 'in Umlauf bringen', 'emittieren'])]\n",
      "MERONYMS: []\n",
      "HOLONYMS: []\n",
      "ANTONYMS: []\n",
      "LEMMA: zeigen\n",
      "POS: v\n",
      "SENSE ID: w2722_10538-v\n"
     ]
    }
   ],
   "source": [
    "OdeNet.word_info(\"zeigen\")"
   ]
  },
  {
   "cell_type": "code",
   "execution_count": 5,
   "metadata": {},
   "outputs": [
    {
     "name": "stdout",
     "output_type": "stream",
     "text": [
      "['show']\n",
      "i38123\n",
      "the act of publicly exhibiting or entertaining\n",
      "['display', 'show']\n",
      "i72651\n",
      "something intended to communicate a particular impression\n",
      "['show']\n",
      "i71255\n",
      "a social event involving a public performance or entertainment\n",
      "['appearance', 'show']\n",
      "i39403\n",
      "pretending that something is the case in order to make a good impression\n",
      "['demonstrate', 'show', 'present', 'exhibit', 'demo']\n",
      "i32498\n",
      "give an exhibition of to an interested audience\n",
      "['demonstrate', 'show', 'shew', 'establish', 'prove']\n",
      "i25049\n",
      "establish the validity of something, as by an example, explanation or experiment\n",
      "['show', 'prove', 'bear witness', 'evidence', 'testify']\n",
      "i26656\n",
      "provide evidence for\n",
      "['show']\n",
      "i32440\n",
      "make visible or noticeable\n",
      "['render', 'show', 'depict', 'picture']\n",
      "i30180\n",
      "show in, or as in, a picture\n",
      "['show', 'express', 'evince']\n",
      "i26321\n",
      "give expression to\n",
      "['point', 'show', 'designate', 'indicate']\n",
      "i26230\n",
      "indicate a place, direction, person, or thing; either spatially or figuratively\n",
      "['show up', 'show']\n",
      "i32451\n",
      "be or become visible or noticeable\n",
      "['register', 'show', 'read', 'record']\n",
      "i26225\n",
      "indicate a certain reading; of gauges and instruments\n",
      "['show']\n",
      "i26227\n",
      "give evidence of, as of records\n",
      "['show', 'usher']\n",
      "i31741\n",
      "take (someone) to their seats, as in theaters or auditoriums\n",
      "['show']\n",
      "i27024\n",
      "finish third or better in a horse or dog race\n"
     ]
    }
   ],
   "source": [
    "OdeNet.check_ili_in_pwn(\"show\")"
   ]
  },
  {
   "cell_type": "code",
   "execution_count": 8,
   "metadata": {},
   "outputs": [
    {
     "name": "stdout",
     "output_type": "stream",
     "text": [
      "<Synset id=\"odenet-10538-v\" ili=\"i26395\" partOfSpeech=\"v\" dc:description=\"restate from one language into another language\"><Definition>In einem Bild darstellen.</Definition><SynsetRelation target='odenet-25555-a' relType='hypernym'/></Synset>\n",
      "\n"
     ]
    }
   ],
   "source": [
    "# Definitionen einfügen'odenet-35395-a','Etwas, das nicht getan werden kann',r\"C:\\Users\\melaniesiegel\\Documents\\05_Projekte\\WordNet\\OdeNet\\deWNaccess\\odenet_oneline.xml\")\n",
    "add_definition_to_ss('odenet-10538-v','In einem Bild darstellen.',r\"C:\\Users\\melaniesiegel\\Documents\\05_Projekte\\WordNet\\OdeNet\\deWNaccess\\odenet_oneline.xml\")"
   ]
  },
  {
   "cell_type": "code",
   "execution_count": 9,
   "metadata": {
    "scrolled": true
   },
   "outputs": [
    {
     "name": "stdout",
     "output_type": "stream",
     "text": [
      "<Synset id=\"odenet-10538-v\" ili=\"i26395\" partOfSpeech=\"v\" ><Definition>In einem Bild darstellen.</Definition><SynsetRelation target='odenet-25555-a' relType='hypernym'/></Synset>\n",
      "\n"
     ]
    }
   ],
   "source": [
    "# Englische Definitionen löschen\n",
    "delete_english_definition('odenet-10538-v',r\"C:\\Users\\melaniesiegel\\Documents\\05_Projekte\\WordNet\\OdeNet\\deWNaccess\\odenet_oneline.xml\")"
   ]
  },
  {
   "cell_type": "code",
   "execution_count": 10,
   "metadata": {
    "scrolled": true
   },
   "outputs": [
    {
     "name": "stdout",
     "output_type": "stream",
     "text": [
      "<Synset id=\"odenet-10538-v\" ili=\"i30180\" partOfSpeech=\"v\" ><Definition>In einem Bild darstellen.</Definition><SynsetRelation target='odenet-25555-a' relType='hypernym'/></Synset>\n",
      "\n"
     ]
    }
   ],
   "source": [
    "# Attribute (v.a. ili) im Synset verändern\n",
    "\n",
    "change_attribute_in_ss('odenet-10538-v','ili','i30180',r\"C:\\Users\\melaniesiegel\\Documents\\05_Projekte\\WordNet\\OdeNet\\deWNaccess\\odenet_oneline.xml\")\n"
   ]
  },
  {
   "cell_type": "code",
   "execution_count": 42,
   "metadata": {},
   "outputs": [
    {
     "name": "stdout",
     "output_type": "stream",
     "text": [
      "<Synset id=\"odenet-15997-n\" ili=\"i70710\" partOfSpeech=\"n\" ><Definition>Kosten für die Bewirtung in einem Restaurant.</Definition><SynsetRelation target='odenet-3160-n' relType='mero_part'/><SynsetRelation target='odenet-6970-n' relType='holo_part'/><SynsetRelation target='odenet-11525-n' relType='hypernym'/></Synset>\n",
      "\n"
     ]
    }
   ],
   "source": [
    "# Relationen zum Synset hinzufügen\n",
    "\n",
    "add_rel_to_ss(\"odenet-15997-n\",\"<SynsetRelation target='odenet-11525-n' relType='hypernym'/>\",r\"C:\\Users\\melaniesiegel\\Documents\\05_Projekte\\WordNet\\OdeNet\\deWNaccess\\odenet_oneline.xml\")"
   ]
  },
  {
   "cell_type": "code",
   "execution_count": 12,
   "metadata": {},
   "outputs": [
    {
     "name": "stdout",
     "output_type": "stream",
     "text": [
      "<Synset id=\"odenet-10538-v\" ili=\"i30180\" partOfSpeech=\"v\" ><Definition>In einem Bild darstellen.</Definition><SynsetRelation target='odenet-25555-a' relType='hypernym'/><Example>Die Partei repräsentiert das Establishment.</Example></Synset>\n",
      "\n"
     ]
    }
   ],
   "source": [
    "# Beispiel einfügen\n",
    "\n",
    "add_example_to_ss('odenet-10538-v','Die Partei repräsentiert das Establishment.',r\"C:\\Users\\melaniesiegel\\Documents\\05_Projekte\\WordNet\\OdeNet\\deWNaccess\\odenet_oneline.xml\")"
   ]
  },
  {
   "cell_type": "code",
   "execution_count": 3,
   "metadata": {},
   "outputs": [
    {
     "name": "stdout",
     "output_type": "stream",
     "text": [
      "<LexicalEntry id=\"w2722\" dc:type=\"Basiswortschatz\" confidenceScore=\"1.0\"><Lemma writtenForm=\"zeigen\" partOfSpeech=\"v\"/><Sense id=\"w2722_533-v\" synset=\"odenet-533-v\"/><Sense id=\"w2722_3065-v\" synset=\"odenet-3065-v\"/><Sense id=\"w2722_4206-v\" synset=\"odenet-4206-v\"><SenseRelation relType=\"antonym\" target=\"odenet-9050-v\"/></Sense><Sense id=\"w2722_5328-v\" synset=\"odenet-5328-v\"/><Sense id=\"w2722_9990-v\" synset=\"odenet-9990-v\"/><Sense id=\"w2722_10538-v\" synset=\"odenet-10538-v\"/></LexicalEntry>\n",
      "\n"
     ]
    }
   ],
   "source": [
    "# Attribute zum LexEntry hinzufügen, z.B. confidenceScore\n",
    "change_attribute_in_lexentry(\"zeigen\",\"confidenceScore\",\"1.0\",r\"C:\\Users\\melaniesiegel\\Documents\\05_Projekte\\WordNet\\OdeNet\\deWNaccess\\odenet_oneline.xml\")"
   ]
  },
  {
   "cell_type": "code",
   "execution_count": 69,
   "metadata": {},
   "outputs": [
    {
     "name": "stdout",
     "output_type": "stream",
     "text": [
      "<LexicalEntry id=\"w19611\" confidenceScore=\"1.0\"><Lemma writtenForm=\"Promotion\" partOfSpeech=\"n\"/><Sense id=\"w19611_4444-n\" synset=\"odenet-4444-n\" note=\"PHON:pʁoˈmoːʃn̩\"/><Sense id=\"w19611_10193-n\" synset=\"odenet-10193-n\" note=\"PHON:ˌpʁomoˈt͡si̯oːn\"/><Sense id=\"w19611_33428-n\" synset=\"odenet-33428-n\"/></LexicalEntry>\n",
      "\n"
     ]
    }
   ],
   "source": [
    "# Attribute zum Sense hinzufügen, z.B. note=\"PHON:buːt\"\n",
    "add_attribute_to_sense(\"w19611_10193-n\",\"odenet-10193-n\",\"note\",\"PHON:ˌpʁomoˈt͡si̯oːn\",r\"C:\\Users\\melaniesiegel\\Documents\\05_Projekte\\WordNet\\OdeNet\\deWNaccess\\odenet_oneline.xml\")"
   ]
  },
  {
   "cell_type": "code",
   "execution_count": 5,
   "metadata": {},
   "outputs": [
    {
     "name": "stdout",
     "output_type": "stream",
     "text": [
      "Ich habe diese Senses dafür: \n",
      "SYNSET: odenet-533-v\n",
      "('i33216', [], 'Vorschlagen, etwas für jemanden zu tun.', [('hypernym', 'odenet-8644-v')], ['andienen', 'anbieten', 'bieten', 'zeigen'])\n",
      "SYNSET: odenet-3065-v\n",
      "('i32498', [], 'Jemanden etwas sehen lassen.', [('hypernym', 'odenet-9246-v')], ['zeigen', 'präsentieren', 'darstellen', 'vorzeigen', 'abbilden', 'vorführen', 'demonstrieren', 'vorstellen'])\n",
      "SYNSET: odenet-4206-v\n",
      "('i32440', [], 'Etwas öffentlich sagen.', [('hyponym', 'odenet-2339-v'), ('hyponym', 'odenet-11159-v'), ('hyponym', 'odenet-1192-v'), ('hyponym', 'odenet-22914-v'), ('hyponym', 'odenet-2770-v')], ['kundtun', 'zeigen', 'offenbaren', 'bekunden'])\n",
      "SYNSET: odenet-5328-v\n",
      "('i25048', [], 'Die Wahrheit von etwas deutlich machen.', [('hypernym', 'odenet-12792-v')], ['bestätigen', 'zeigen', 'aufzeigen', 'nachweisen', 'belegen', 'Nachweis erbringen', 'Beweis erbringen für', 'beweisen'])\n",
      "SYNSET: odenet-9990-v\n",
      "('i25049', [], 'Sich als etwas erweisen, offenbaren.', [], ['zeigen', 'niederschlagen', 'manifestieren'])\n",
      "SYNSET: odenet-10538-v\n",
      "('i30180', [], 'In einem Bild darstellen.', [], ['zeigen', 'repräsentieren', 'wiedergeben', 'bildlich darstellen', 'darstellen', 'abbilden', 'zur Darstellung bringen'])\n"
     ]
    },
    {
     "name": "stdin",
     "output_type": "stream",
     "text": [
      "Welcher Sense?  odenet-10538-v\n"
     ]
    },
    {
     "name": "stdout",
     "output_type": "stream",
     "text": [
      "[]\n",
      "[]\n",
      "[('zeigen', {})]\n"
     ]
    },
    {
     "data": {
      "image/png": "[encoded data removed]",
      "text/plain": [
       "<Figure size 432x288 with 1 Axes>"
      ]
     },
     "metadata": {},
     "output_type": "display_data"
    }
   ],
   "source": [
    "# Hyponyme und Hyperonyme visualisieren\n",
    "OdeNet.visualize(\"zeigen\")"
   ]
  },
  {
   "cell_type": "code",
   "execution_count": 6,
   "metadata": {},
   "outputs": [],
   "source": [
    "# In schönerem Format speichern, sodass das eingecheckt werden kann\n",
    "\n",
    "prettyprint_odenet()"
   ]
  },
  {
   "cell_type": "code",
   "execution_count": null,
   "metadata": {},
   "outputs": [],
   "source": []
  }
 ],
 "metadata": {
  "kernelspec": {
   "display_name": "Python 3",
   "language": "python",
   "name": "python3"
  },
  "language_info": {
   "codemirror_mode": {
    "name": "ipython",
    "version": 3
   },
   "file_extension": ".py",
   "mimetype": "text/x-python",
   "name": "python",
   "nbconvert_exporter": "python",
   "pygments_lexer": "ipython3",
   "version": "3.7.6"
  }
 },
 "nbformat": 4,
 "nbformat_minor": 4
}
