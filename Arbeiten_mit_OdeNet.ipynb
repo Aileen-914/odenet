{
 "cells": [
  {
   "cell_type": "code",
   "execution_count": 5,
   "metadata": {},
   "outputs": [],
   "source": [
    "from odenet import *"
   ]
  },
  {
   "cell_type": "code",
   "execution_count": 6,
   "metadata": {
    "scrolled": true
   },
   "outputs": [
    {
     "name": "stdout",
     "output_type": "stream",
     "text": [
      "präskriptiv a \n",
      "SENSE: odenet-19094-a  ('i17116', 'relating to or dealing with norms', [], [], ['normsetzend', 'normativ', 'präskriptiv', 'normierend', 'wertend', 'vorschreibend', 'normgebend'])\n",
      "\n",
      "HYPERNYMS: []\n",
      "HYPONYMS: []\n",
      "MERONYMS: []\n",
      "HOLONYMS: []\n",
      "ANTONYMS: []\n",
      "LEMMA: präskriptiv\n",
      "POS: a\n",
      "SENSE ID: w68641_19094-a\n"
     ]
    }
   ],
   "source": [
    "OdeNet.word_info(\"präskriptiv\")"
   ]
  },
  {
   "cell_type": "code",
   "execution_count": 7,
   "metadata": {},
   "outputs": [
    {
     "name": "stdout",
     "output_type": "stream",
     "text": [
      "['closed']\n",
      "i13712\n",
      "requiring union membership\n",
      "['closed']\n",
      "i12489\n",
      "with shutters closed\n",
      "['closed']\n",
      "i10963\n",
      "not open to the general public\n",
      "['closed', 'unsympathetic']\n",
      "i10877\n",
      "not having an open mind\n",
      "['closed', 'closed in']\n",
      "i9087\n",
      "blocked against entry\n",
      "['closed']\n",
      "i9061\n",
      "not open or affording passage or access\n",
      "['closed']\n",
      "i9105\n",
      "(set theory) of an interval that contains both its endpoints\n",
      "['unopen', 'shut', 'closed']\n",
      "i9056\n",
      "not open\n",
      "['shut', 'closed']\n",
      "i9071\n",
      "used especially of mouth or eyes\n"
     ]
    }
   ],
   "source": [
    "OdeNet.check_ili_in_pwn(\"closed\")"
   ]
  },
  {
   "cell_type": "code",
   "execution_count": 8,
   "metadata": {},
   "outputs": [],
   "source": [
    "# Definitionen einfügen'odenet-35395-a','Etwas, das nicht getan werden kann',r\"C:\\Users\\melaniesiegel\\Documents\\05_Projekte\\WordNet\\OdeNet\\deWNaccess\\odenet_oneline.xml\")\n",
    "add_definition_to_ss('odenet-10356-a','Im Zustand freundschaftlicher Verbundenheit.',r\"C:\\Users\\melaniesiegel\\Documents\\05_Projekte\\WordNet\\OdeNet\\deWNaccess\\odenet_oneline.xml\")"
   ]
  },
  {
   "cell_type": "code",
   "execution_count": 14,
   "metadata": {
    "scrolled": true
   },
   "outputs": [
    {
     "name": "stdout",
     "output_type": "stream",
     "text": [
      "<Synset id=\"odenet-10356-a\" ili=\"i5899\" partOfSpeech=\"a\" ><Definition>Im Zustand freundschaftlicher Verbundenheit.</Definition></Synset>\n",
      "\n"
     ]
    }
   ],
   "source": [
    "# Englische Definitionen löschen\n",
    "delete_english_definition('odenet-10356-a',r\"C:\\Users\\melaniesiegel\\Documents\\05_Projekte\\WordNet\\OdeNet\\deWNaccess\\odenet_oneline.xml\")"
   ]
  },
  {
   "cell_type": "code",
   "execution_count": 8,
   "metadata": {
    "scrolled": true
   },
   "outputs": [
    {
     "name": "stdout",
     "output_type": "stream",
     "text": [
      "<Synset id=\"odenet-6451-a\" ili=\"i9056\" partOfSpeech=\"a\" ><Definition>Nicht offen.</Definition></Synset>\n",
      "\n"
     ]
    }
   ],
   "source": [
    "# Attribute (v.a. ili) im Synset verändern\n",
    "\n",
    "change_attribute_in_ss('odenet-6451-a','ili','i9056',r\"C:\\Users\\melaniesiegel\\Documents\\05_Projekte\\WordNet\\OdeNet\\deWNaccess\\odenet_oneline.xml\")\n"
   ]
  },
  {
   "cell_type": "code",
   "execution_count": 17,
   "metadata": {},
   "outputs": [
    {
     "name": "stdout",
     "output_type": "stream",
     "text": [
      "<Synset id=\"odenet-10356-a\" ili=\"i5899\" partOfSpeech=\"a\" ><Definition>Im Zustand freundschaftlicher Verbundenheit.</Definition><SynsetRelation target='odenet-8678-a' relType='antonym'/></Synset>\n",
      "\n"
     ]
    }
   ],
   "source": [
    "# Relationen zum Synset hinzufügen\n",
    "\n",
    "add_rel_to_ss(\"odenet-10356-a\",\"<SynsetRelation target='odenet-8678-a' relType='antonym'/>\",r\"C:\\Users\\melaniesiegel\\Documents\\05_Projekte\\WordNet\\OdeNet\\deWNaccess\\odenet_oneline.xml\")"
   ]
  },
  {
   "cell_type": "code",
   "execution_count": 18,
   "metadata": {},
   "outputs": [
    {
     "name": "stdout",
     "output_type": "stream",
     "text": [
      "<Synset id=\"odenet-10356-a\" ili=\"i5899\" partOfSpeech=\"a\" ><Definition>Im Zustand freundschaftlicher Verbundenheit.</Definition><SynsetRelation target='odenet-8678-a' relType='antonym'/><Example>Das Verhältnis zwischen ihnen ist kameradschaftlich.</Example></Synset>\n",
      "\n"
     ]
    }
   ],
   "source": [
    "# Beispiel einfügen\n",
    "\n",
    "add_example_to_ss('odenet-10356-a','Das Verhältnis zwischen ihnen ist kameradschaftlich.',r\"C:\\Users\\melaniesiegel\\Documents\\05_Projekte\\WordNet\\OdeNet\\deWNaccess\\odenet_oneline.xml\")"
   ]
  },
  {
   "cell_type": "code",
   "execution_count": 19,
   "metadata": {},
   "outputs": [
    {
     "name": "stdout",
     "output_type": "stream",
     "text": [
      "<LexicalEntry id=\"w10603\" dc:type=\"Basiswortschatz\" confidenceScore=\"1.0\"><Lemma writtenForm=\"geschlossen\" partOfSpeech=\"a\"/><Sense id=\"w10603_6451-a\" synset=\"odenet-6451-a\"/><Sense id=\"w10603_10356-a\" synset=\"odenet-10356-a\"/></LexicalEntry>\n",
      "\n"
     ]
    }
   ],
   "source": [
    "# Attribute zum LexEntry hinzufügen, z.B. confidenceScore\n",
    "change_attribute_in_lexentry(\"geschlossen\",\"confidenceScore\",\"1.0\",r\"C:\\Users\\melaniesiegel\\Documents\\05_Projekte\\WordNet\\OdeNet\\deWNaccess\\odenet_oneline.xml\")"
   ]
  },
  {
   "cell_type": "code",
   "execution_count": 69,
   "metadata": {},
   "outputs": [
    {
     "name": "stdout",
     "output_type": "stream",
     "text": [
      "<LexicalEntry id=\"w19611\" confidenceScore=\"1.0\"><Lemma writtenForm=\"Promotion\" partOfSpeech=\"n\"/><Sense id=\"w19611_4444-n\" synset=\"odenet-4444-n\" note=\"PHON:pʁoˈmoːʃn̩\"/><Sense id=\"w19611_10193-n\" synset=\"odenet-10193-n\" note=\"PHON:ˌpʁomoˈt͡si̯oːn\"/><Sense id=\"w19611_33428-n\" synset=\"odenet-33428-n\"/></LexicalEntry>\n",
      "\n"
     ]
    }
   ],
   "source": [
    "# Attribute zum Sense hinzufügen, z.B. note=\"PHON:buːt\"\n",
    "add_attribute_to_sense(\"w19611_10193-n\",\"odenet-10193-n\",\"note\",\"PHON:ˌpʁomoˈt͡si̯oːn\",r\"C:\\Users\\melaniesiegel\\Documents\\05_Projekte\\WordNet\\OdeNet\\deWNaccess\\odenet_oneline.xml\")"
   ]
  },
  {
   "cell_type": "code",
   "execution_count": 9,
   "metadata": {},
   "outputs": [
    {
     "name": "stdout",
     "output_type": "stream",
     "text": [
      "Ich habe diese Senses dafür: \n",
      "SYNSET: odenet-6451-a\n",
      "('i9056', [], 'Nicht offen.', [('antonym', 'odenet-9196-a')], ['zu', 'geschlossen', 'dicht', 'gesperrt'])\n",
      "SYNSET: odenet-10356-a\n",
      "('i5899', [], 'Im Zustand freundschaftlicher Verbundenheit.', [('antonym', 'odenet-8678-a')], ['verbündet', 'geschlossen', 'kameradschaftlich', 'einmütig', 'Seite an Seite', 'kollegial', 'kooperativ', 'gleichgesinnt', 'einvernehmlich', 'einträchtig', 'solidarisch', 'hilfsbereit', 'vereint', 'miteinander', 'in Zusammenarbeit', 'partnerschaftlich', 'eines Sinnes', 'zusammenhaltend', 'zusammenstehend', 'kollektiv', 'Schulter an Schulter', 'unanim', 'Hand in Hand', 'im Team', 'geeint', 'füreinander einstehend'])\n"
     ]
    },
    {
     "name": "stdin",
     "output_type": "stream",
     "text": [
      "Welcher Sense?  odenet-6451-a\n"
     ]
    },
    {
     "name": "stdout",
     "output_type": "stream",
     "text": [
      "[]\n",
      "[]\n",
      "[('geschlossen', {})]\n"
     ]
    },
    {
     "data": {
      "image/png": "[encoded data removed]",
      "text/plain": [
       "<Figure size 432x288 with 1 Axes>"
      ]
     },
     "metadata": {},
     "output_type": "display_data"
    }
   ],
   "source": [
    "# Hyponyme und Hyperonyme visualisieren\n",
    "visualize(\"geschlossen\")"
   ]
  },
  {
   "cell_type": "code",
   "execution_count": 21,
   "metadata": {},
   "outputs": [],
   "source": [
    "# In schönerem Format speichern, sodass das eingecheckt werden kann\n",
    "\n",
    "prettyprint_odenet()"
   ]
  },
  {
   "cell_type": "code",
   "execution_count": null,
   "metadata": {},
   "outputs": [],
   "source": []
  }
 ],
 "metadata": {
  "kernelspec": {
   "display_name": "Python 3",
   "language": "python",
   "name": "python3"
  },
  "language_info": {
   "codemirror_mode": {
    "name": "ipython",
    "version": 3
   },
   "file_extension": ".py",
   "mimetype": "text/x-python",
   "name": "python",
   "nbconvert_exporter": "python",
   "pygments_lexer": "ipython3",
   "version": "3.7.6"
  }
 },
 "nbformat": 4,
 "nbformat_minor": 4
}
